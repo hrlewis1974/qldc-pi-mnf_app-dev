{
 "cells": [
  {
   "cell_type": "code",
   "execution_count": 34,
   "id": "87e437d2",
   "metadata": {},
   "outputs": [],
   "source": [
    "#%pip install plotly yfinance pandas shiny shinywidgets faicons"
   ]
  },
  {
   "cell_type": "code",
   "execution_count": 35,
   "id": "b186909c",
   "metadata": {},
   "outputs": [],
   "source": [
    "from pathlib import Path\n",
    "\n",
    "import pandas as pd\n",
    "import plotly.graph_objects as go\n",
    "import yfinance as yf\n",
    "from faicons import icon_svg\n",
    "from shiny import App, Inputs, Outputs, Session, reactive, render, ui\n",
    "from shinywidgets import output_widget, render_plotly\n",
    "\n",
    "from stocks import stocks\n",
    "from datetime import datetime"
   ]
  }
 ],
 "metadata": {
  "language_info": {
   "name": "python"
  }
 },
 "nbformat": 4,
 "nbformat_minor": 5
}
